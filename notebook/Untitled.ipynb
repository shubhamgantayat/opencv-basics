{
 "cells": [
  {
   "cell_type": "code",
   "execution_count": 1,
   "id": "3f104f33",
   "metadata": {},
   "outputs": [
    {
     "name": "stderr",
     "output_type": "stream",
     "text": [
      "\n",
      "Bad key \"text.kerning_factor\" on line 4 in\n",
      "C:\\Users\\ASUS\\anaconda3\\lib\\site-packages\\matplotlib\\mpl-data\\stylelib\\_classic_test_patch.mplstyle.\n",
      "You probably need to get an updated matplotlibrc file from\n",
      "https://github.com/matplotlib/matplotlib/blob/v3.1.3/matplotlibrc.template\n",
      "or from the matplotlib source distribution\n"
     ]
    }
   ],
   "source": [
    "import cv2\n",
    "import matplotlib.pyplot as plt\n",
    "import numpy as np"
   ]
  },
  {
   "cell_type": "code",
   "execution_count": 18,
   "id": "8f756973",
   "metadata": {},
   "outputs": [],
   "source": [
    "img = cv2.imread(\"../imgs/pexels-bich-tran-636237.jpg\")"
   ]
  },
  {
   "cell_type": "code",
   "execution_count": 19,
   "id": "1ed28a6f",
   "metadata": {},
   "outputs": [],
   "source": [
    "def show_img(img):\n",
    "    while True:\n",
    "        cv2.imshow(\"demo\", img)\n",
    "        if cv2.waitKey(0) & 0xFF == 27:\n",
    "            cv2.destroyAllWindows()\n",
    "            break"
   ]
  },
  {
   "cell_type": "code",
   "execution_count": 20,
   "id": "193b9bab",
   "metadata": {},
   "outputs": [],
   "source": [
    "show_img(img)"
   ]
  },
  {
   "cell_type": "markdown",
   "id": "c589cc7b",
   "metadata": {},
   "source": [
    "## Draw shapes on images"
   ]
  },
  {
   "cell_type": "code",
   "execution_count": 23,
   "id": "08ed32e3",
   "metadata": {},
   "outputs": [],
   "source": [
    "rectangle_draw = cv2.rectangle(img, (225,0), (300, 128), (0,255,0), 1)\n",
    "cv2.putText(rectangle_draw, \"Rectangle\", (225 + 3, 0+30), cv2.FONT_ITALIC, 0.2, (255,0,0))\n",
    "show_img(rectangle_draw)"
   ]
  },
  {
   "cell_type": "markdown",
   "id": "9612fd43",
   "metadata": {},
   "source": [
    "## Video Capture"
   ]
  },
  {
   "cell_type": "code",
   "execution_count": 30,
   "id": "b0f03ad3",
   "metadata": {},
   "outputs": [
    {
     "name": "stdout",
     "output_type": "stream",
     "text": [
      "(480, 640, 3)\n",
      "(480, 640, 3)\n"
     ]
    }
   ],
   "source": [
    "cap = cv2.VideoCapture(1)\n",
    "\n",
    "fourcc = cv2.VideoWriter_fourcc(*\"XVID\")\n",
    "out = cv2.VideoWriter(\"sample.avi\", fourcc, 20.0, (640, 400))\n",
    "\n",
    "while True:\n",
    "    ret, frame = cap.read()\n",
    "    print(frame.shape)\n",
    "    rectangle_draw = cv2.rectangle(frame, (225,0), (300, 128), (0,255,0), 1)\n",
    "    cv2.putText(rectangle_draw, \"Rectangle\", (225 + 3, 0+30), cv2.FONT_ITALIC, 0.2, (255,0,0))\n",
    "    cv2.imshow(\"vid_frame\",rectangle_draw)\n",
    "    if cv2.waitKey(0) & 0xFF == 27:\n",
    "        break\n",
    "        \n",
    "cap.release()\n",
    "out.release\n",
    "cv2.destroyAllWindows()"
   ]
  },
  {
   "cell_type": "code",
   "execution_count": null,
   "id": "8a9e5c42",
   "metadata": {},
   "outputs": [],
   "source": []
  }
 ],
 "metadata": {
  "kernelspec": {
   "display_name": "Python 3 (ipykernel)",
   "language": "python",
   "name": "python3"
  },
  "language_info": {
   "codemirror_mode": {
    "name": "ipython",
    "version": 3
   },
   "file_extension": ".py",
   "mimetype": "text/x-python",
   "name": "python",
   "nbconvert_exporter": "python",
   "pygments_lexer": "ipython3",
   "version": "3.7.6"
  }
 },
 "nbformat": 4,
 "nbformat_minor": 5
}
